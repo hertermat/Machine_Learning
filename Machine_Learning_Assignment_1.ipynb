{
  "nbformat": 4,
  "nbformat_minor": 0,
  "metadata": {
    "colab": {
      "name": "Machine_Learning_Assignment_1.ipynb",
      "provenance": []
    },
    "kernelspec": {
      "name": "python3",
      "display_name": "Python 3"
    },
    "language_info": {
      "name": "python"
    }
  },
  "cells": [
    {
      "cell_type": "markdown",
      "source": [
        "## MATIAS HERTER - 101272358\n"
      ],
      "metadata": {
        "id": "vWyk72P1Km8j"
      }
    },
    {
      "cell_type": "code",
      "execution_count": 67,
      "metadata": {
        "id": "hH_mJc3RR_Z2"
      },
      "outputs": [],
      "source": [
        "from keras.datasets import fashion_mnist\n",
        "import matplotlib.pyplot as plt\n",
        "from keras import models\n",
        "from keras import layers\n",
        "import numpy as np\n",
        "import tensorflow as tf\n",
        "from tensorflow.keras import layers\n",
        "from tensorflow.keras import utils"
      ]
    },
    {
      "cell_type": "code",
      "source": [
        "(train_images, train_labels),(test_images, test_labels) = fashion_mnist.load_data()"
      ],
      "metadata": {
        "id": "ZRHBadYDSQ3n"
      },
      "execution_count": 68,
      "outputs": []
    },
    {
      "cell_type": "markdown",
      "source": [
        "# 1-What are the dimensions of train_images, train_labels, test_images, and test_labels?"
      ],
      "metadata": {
        "id": "J3oQF3xvTai2"
      }
    },
    {
      "cell_type": "code",
      "source": [
        "train_images.ndim"
      ],
      "metadata": {
        "colab": {
          "base_uri": "https://localhost:8080/"
        },
        "id": "QVY6GxTeSazx",
        "outputId": "dc7dbb92-3698-4287-f675-230e1afd94ad"
      },
      "execution_count": 62,
      "outputs": [
        {
          "output_type": "execute_result",
          "data": {
            "text/plain": [
              "3"
            ]
          },
          "metadata": {},
          "execution_count": 62
        }
      ]
    },
    {
      "cell_type": "code",
      "source": [
        "train_labels.ndim"
      ],
      "metadata": {
        "colab": {
          "base_uri": "https://localhost:8080/"
        },
        "id": "09Lcb6DDTO9O",
        "outputId": "600ce4ca-5cb6-4b73-debe-89a769f98e99"
      },
      "execution_count": 63,
      "outputs": [
        {
          "output_type": "execute_result",
          "data": {
            "text/plain": [
              "1"
            ]
          },
          "metadata": {},
          "execution_count": 63
        }
      ]
    },
    {
      "cell_type": "code",
      "source": [
        "test_images.ndim"
      ],
      "metadata": {
        "colab": {
          "base_uri": "https://localhost:8080/"
        },
        "id": "uGKToQkST6Nb",
        "outputId": "b9c41d9f-8444-4045-af1d-58ed840e8450"
      },
      "execution_count": 78,
      "outputs": [
        {
          "output_type": "execute_result",
          "data": {
            "text/plain": [
              "2"
            ]
          },
          "metadata": {},
          "execution_count": 78
        }
      ]
    },
    {
      "cell_type": "code",
      "source": [
        "test_labels.ndim"
      ],
      "metadata": {
        "colab": {
          "base_uri": "https://localhost:8080/"
        },
        "id": "E_ybMBHLT82W",
        "outputId": "e1be78d7-d7ab-4773-cfc3-fe55005af96f"
      },
      "execution_count": 7,
      "outputs": [
        {
          "output_type": "execute_result",
          "data": {
            "text/plain": [
              "1"
            ]
          },
          "metadata": {},
          "execution_count": 7
        }
      ]
    },
    {
      "cell_type": "markdown",
      "source": [
        "#2.\tWhat are the lengths of train_labels and test_labels?"
      ],
      "metadata": {
        "id": "tId1k7gwUDDp"
      }
    },
    {
      "cell_type": "code",
      "source": [
        "len(train_labels)"
      ],
      "metadata": {
        "colab": {
          "base_uri": "https://localhost:8080/"
        },
        "id": "dKm5M8KPT_Ah",
        "outputId": "b868dc50-310d-4dab-9631-2489b8218304"
      },
      "execution_count": 24,
      "outputs": [
        {
          "output_type": "execute_result",
          "data": {
            "text/plain": [
              "60000"
            ]
          },
          "metadata": {},
          "execution_count": 24
        }
      ]
    },
    {
      "cell_type": "code",
      "source": [
        "len(test_labels)"
      ],
      "metadata": {
        "colab": {
          "base_uri": "https://localhost:8080/"
        },
        "id": "JYCpZa4hUGCy",
        "outputId": "c23be3af-e2c3-40e0-dabb-aa6bf7f622e3"
      },
      "execution_count": 25,
      "outputs": [
        {
          "output_type": "execute_result",
          "data": {
            "text/plain": [
              "10000"
            ]
          },
          "metadata": {},
          "execution_count": 25
        }
      ]
    },
    {
      "cell_type": "markdown",
      "source": [
        "#3.\tPlease show some of train and test labels.\n"
      ],
      "metadata": {
        "id": "twQHX1pGUYRm"
      }
    },
    {
      "cell_type": "code",
      "source": [
        "print(train_labels[10], train_labels[20], train_labels[30])"
      ],
      "metadata": {
        "colab": {
          "base_uri": "https://localhost:8080/"
        },
        "id": "nFjZpaYAUU4E",
        "outputId": "0e515cd7-c43d-4e62-e8f9-f84c60557ab6"
      },
      "execution_count": 26,
      "outputs": [
        {
          "output_type": "stream",
          "name": "stdout",
          "text": [
            "0 3 5\n"
          ]
        }
      ]
    },
    {
      "cell_type": "code",
      "source": [
        "print(test_labels[10], test_labels[20], test_labels[30])"
      ],
      "metadata": {
        "colab": {
          "base_uri": "https://localhost:8080/"
        },
        "id": "UK3S_BVjUbSQ",
        "outputId": "71a0bc79-caa5-4ff7-cee0-8a395c85fd32"
      },
      "execution_count": 27,
      "outputs": [
        {
          "output_type": "stream",
          "name": "stdout",
          "text": [
            "4 2 8\n"
          ]
        }
      ]
    },
    {
      "cell_type": "markdown",
      "source": [
        "#4.\tPlease show the digital content of image index 5 in the training dataset."
      ],
      "metadata": {
        "id": "nKl-D6_rXdGW"
      }
    },
    {
      "cell_type": "code",
      "source": [
        "train_images[5]"
      ],
      "metadata": {
        "colab": {
          "base_uri": "https://localhost:8080/"
        },
        "id": "nH7HCHOdXS7D",
        "outputId": "05ae0e6e-6720-479c-b29b-2a37e4a5bf95"
      },
      "execution_count": 28,
      "outputs": [
        {
          "output_type": "execute_result",
          "data": {
            "text/plain": [
              "array([[  0,   0,   0,   0,   1,   0,   0,   0,   0,  22,  88, 188, 172,\n",
              "        132, 125, 141, 199, 143,   9,   0,   0,   0,   1,   0,   0,   0,\n",
              "          0,   0],\n",
              "       [  0,   0,   0,   1,   0,   0,  20, 131, 199, 206, 196, 202, 242,\n",
              "        255, 255, 250, 222, 197, 206, 188, 126,  17,   0,   0,   0,   0,\n",
              "          0,   0],\n",
              "       [  0,   0,   0,   1,   0,  35, 214, 191, 183, 178, 175, 168, 150,\n",
              "        162, 159, 152, 158, 179, 183, 189, 195, 185,  82,   0,   0,   0,\n",
              "          0,   0],\n",
              "       [  0,   0,   0,   0,   0, 170, 190, 172, 177, 176, 171, 169, 162,\n",
              "        155, 148, 154, 169, 174, 175, 175, 177, 183, 188,  12,   0,   0,\n",
              "          0,   0],\n",
              "       [  0,   0,   0,   0,  25, 194, 180, 178, 174, 184, 187, 189, 187,\n",
              "        184, 181, 189, 200, 197, 193, 190, 178, 175, 194,  90,   0,   0,\n",
              "          0,   0],\n",
              "       [  0,   0,   0,   0,  42, 218, 191, 197, 208, 204, 211, 209, 210,\n",
              "        212, 211, 214, 215, 213, 214, 211, 211, 191, 200, 158,   0,   0,\n",
              "          0,   0],\n",
              "       [  0,   0,   0,   0,  88, 221, 215, 217, 219, 211, 185, 150, 118,\n",
              "        107,  99,  88,  83,  90, 135, 212, 203, 207, 219, 169,   0,   0,\n",
              "          0,   0],\n",
              "       [  0,   0,   0,   0,   0,  27, 118, 162,  40,   0,   0,   0,  10,\n",
              "         19,  28,  39,  47,  36,   0,   0, 203, 230, 220, 203,   0,   0,\n",
              "          0,   0],\n",
              "       [  0,   0,   0,   0, 138, 136,  71,  69,  54, 216, 217, 203, 184,\n",
              "        168, 163, 162, 163, 178, 221, 186,  38,  26,   7,   0,   0,   0,\n",
              "          0,   0],\n",
              "       [  0,   0,   0,   0,  67, 134, 154, 224, 129,  66,  81, 117, 129,\n",
              "        128, 132, 137, 131, 129,  86,  73, 157, 151, 134, 216,  18,   0,\n",
              "          0,   0],\n",
              "       [  0,   0,   0,   0, 203, 198, 172, 183, 206, 255, 255, 250, 243,\n",
              "        240, 239, 235, 238, 244, 255, 238, 184, 160,  86,  98,   0,   0,\n",
              "          0,   0],\n",
              "       [  0,   0,   0,   0, 122, 188, 224, 151, 105, 127,  97, 100, 105,\n",
              "        114, 117, 117, 113, 103,  98, 111, 142, 254, 191, 255,  49,   0,\n",
              "          0,   0],\n",
              "       [  0,   0,   0,   0, 163, 179, 200,  95, 154, 198, 197, 200, 200,\n",
              "        198, 197, 198, 199, 202, 200, 176,  86, 206, 157, 162,  10,   0,\n",
              "          0,   0],\n",
              "       [  0,   0,   0,   0, 197, 201, 229,  71, 144, 194, 181, 183, 179,\n",
              "        182, 180, 179, 180, 190, 185, 197,  76, 219, 185, 201,  34,   0,\n",
              "          0,   0],\n",
              "       [  0,   0,   0,   0, 199, 193, 226,  58, 154, 192, 184, 187, 184,\n",
              "        186, 184, 185, 183, 192, 191, 200,  56, 219, 203, 207,  60,   0,\n",
              "          0,   0],\n",
              "       [  0,   0,   0,   0, 201, 194, 224,  41, 163, 190, 186, 186, 184,\n",
              "        185, 183, 185, 178, 190, 194, 202,  33, 211, 200, 206,  73,   0,\n",
              "          0,   0],\n",
              "       [  0,   0,   0,   0, 201, 197, 222,  17, 172, 190, 186, 187, 182,\n",
              "        186, 185, 187, 180, 187, 193, 202,  26, 212, 202, 203,  76,   0,\n",
              "          0,   0],\n",
              "       [  0,   0,   0,   0, 200, 197, 223,   0, 177, 189, 184, 185, 178,\n",
              "        184, 183, 184, 180, 183, 189, 203,  35, 196, 203, 203,  84,   0,\n",
              "          0,   0],\n",
              "       [  0,   0,   0,   0, 200, 197, 223,   0, 185, 187, 185, 187, 180,\n",
              "        184, 182, 183, 178, 182, 183, 205,  44, 159, 207, 201,  85,   0,\n",
              "          0,   0],\n",
              "       [  0,   0,   0,   0, 187, 198, 225,   0, 194, 188, 184, 185, 180,\n",
              "        183, 183, 184, 181, 181, 177, 206,  46, 129, 211, 200,  88,   0,\n",
              "          0,   0],\n",
              "       [  0,   0,   0,   6, 186, 200, 211,   0, 199, 189, 184, 184, 185,\n",
              "        182, 183, 184, 185, 182, 175, 205,  50,  97, 216, 197,  93,   0,\n",
              "          0,   0],\n",
              "       [  0,   0,   0,   5, 185, 204, 184,   0, 202, 188, 182, 182, 183,\n",
              "        183, 184, 182, 180, 182, 174, 202,  63,  59, 220, 196,  94,   0,\n",
              "          0,   0],\n",
              "       [  0,   0,   0,   5, 184, 206, 157,   0, 204, 187, 187, 189, 192,\n",
              "        190, 190, 191, 190, 187, 183, 202,  78,  35, 222, 197,  95,   0,\n",
              "          0,   0],\n",
              "       [  0,   0,   0,   5, 183, 208, 127,   0, 197, 166, 153, 149, 149,\n",
              "        146, 148, 149, 150, 151, 158, 191,  90,   8, 223, 195,  99,   0,\n",
              "          0,   0],\n",
              "       [  0,   0,   0,   6, 184, 208, 114,   0, 204, 173, 161, 180, 176,\n",
              "        172, 173, 173, 174, 176, 162, 202, 115,   0, 229, 199, 105,   0,\n",
              "          0,   0],\n",
              "       [  0,   0,   0,   9, 178, 204, 115,   0, 121, 135, 114, 117, 114,\n",
              "        114, 117, 118, 119, 117, 113, 147,  63,   0, 225, 196, 107,   0,\n",
              "          0,   0],\n",
              "       [  0,   0,   0,  18, 180, 206, 131,   0,   0,   0,   0,   0,   0,\n",
              "          0,   0,   0,   0,   0,   0,   0,   0,   0, 224, 197, 123,   0,\n",
              "          0,   0],\n",
              "       [  0,   0,   0,   0, 141, 151,  76,   0,   1,   1,   0,   0,   0,\n",
              "          0,   0,   0,   0,   0,   0,   0,   0,   0, 133, 167,  73,   0,\n",
              "          0,   0]], dtype=uint8)"
            ]
          },
          "metadata": {},
          "execution_count": 28
        }
      ]
    },
    {
      "cell_type": "markdown",
      "source": [
        "#5.\tPlease plot the image of the index 5 in the training dataset."
      ],
      "metadata": {
        "id": "w1RCU2zBbkcd"
      }
    },
    {
      "cell_type": "code",
      "source": [
        "plt.imshow(train_images[5],cmap=plt.cm.binary)\n",
        "plt.show()"
      ],
      "metadata": {
        "colab": {
          "base_uri": "https://localhost:8080/",
          "height": 265
        },
        "id": "7zQX1C2DbfGb",
        "outputId": "c0ee72bb-4152-40de-e289-700c2cf4c9e5"
      },
      "execution_count": 29,
      "outputs": [
        {
          "output_type": "display_data",
          "data": {
            "image/png": "[encoded data removed]",
            "text/plain": [
              "<Figure size 432x288 with 1 Axes>"
            ]
          },
          "metadata": {
            "needs_background": "light"
          }
        }
      ]
    },
    {
      "cell_type": "markdown",
      "source": [
        "# 6.\tWhat is the label for the index 5 in the train_label and looking up in the above list, what does it mean?"
      ],
      "metadata": {
        "id": "nU4a10MSb3DY"
      }
    },
    {
      "cell_type": "code",
      "source": [
        "train_labels[5]\n",
        "#label 2 reads ti sweater"
      ],
      "metadata": {
        "colab": {
          "base_uri": "https://localhost:8080/"
        },
        "id": "G0dKYVIAbtTr",
        "outputId": "db58bb4c-55f3-46a3-f37c-30bc9bb1d80c"
      },
      "execution_count": 30,
      "outputs": [
        {
          "output_type": "execute_result",
          "data": {
            "text/plain": [
              "2"
            ]
          },
          "metadata": {},
          "execution_count": 30
        }
      ]
    },
    {
      "cell_type": "markdown",
      "source": [
        "#7.\tPlease show the digital content of image index 500 in the testing dataset."
      ],
      "metadata": {
        "id": "OdL1qwE8dHBg"
      }
    },
    {
      "cell_type": "code",
      "source": [
        "train_images[500]"
      ],
      "metadata": {
        "colab": {
          "base_uri": "https://localhost:8080/"
        },
        "id": "ifS1AjlkdGmi",
        "outputId": "b1e8e28b-e37a-4a45-8626-4cc0e748acf1"
      },
      "execution_count": 31,
      "outputs": [
        {
          "output_type": "execute_result",
          "data": {
            "text/plain": [
              "array([[  0,   0,   0,   0,   0,   0,   0,   3,   0,   0,   0,  19, 204,\n",
              "         93,  35,  91, 227,  91,   0,   0,   0,   3,   0,   0,   0,   0,\n",
              "          0,   0],\n",
              "       [  0,   0,   0,   0,   0,   0,   2,   0,   0, 134, 210, 237, 241,\n",
              "        241, 255, 245, 238, 241, 248, 111,   0,   0,   3,   0,   0,   0,\n",
              "          0,   0],\n",
              "       [  0,   0,   0,   0,   0,   0,   0,   0, 175, 254, 235, 233, 232,\n",
              "        225, 227, 226, 229, 231, 236, 250, 200,   0,   0,   0,   0,   0,\n",
              "          0,   0],\n",
              "       [  0,   0,   0,   0,   0,   0,   0,   2, 240, 229, 228, 219, 215,\n",
              "        235, 229, 234, 217, 198, 222, 220, 255, 101,   0,   0,   0,   0,\n",
              "          0,   0],\n",
              "       [  0,   0,   0,   0,   0,   0,   0,  46, 246, 236, 189, 173, 212,\n",
              "        240, 226, 239, 210, 152, 177, 222, 249, 170,   0,   0,   0,   0,\n",
              "          0,   0],\n",
              "       [  0,   0,   0,   0,   0,   0,   0,  97, 255, 233, 226, 231, 237,\n",
              "        230, 231, 231, 236, 241, 232, 231, 245, 210,   0,   0,   0,   0,\n",
              "          0,   0],\n",
              "       [  0,   0,   0,   0,   0,   0,   0, 150, 252, 234, 239, 232, 228,\n",
              "        228, 229, 228, 228, 233, 242, 236, 243, 233,   0,   0,   0,   0,\n",
              "          0,   0],\n",
              "       [  0,   0,   0,   0,   0,   0,   0, 195, 249, 234, 243, 234, 232,\n",
              "        231, 230, 230, 229, 234, 242, 227, 239, 219,   0,   0,   0,   0,\n",
              "          0,   0],\n",
              "       [  0,   0,   0,   0,   0,   0,   0, 228, 248, 220, 229, 246, 230,\n",
              "        231, 231, 231, 229, 244, 231, 163, 243, 238,   0,   0,   0,   0,\n",
              "          0,   0],\n",
              "       [  0,   0,   0,   0,   0,   0,   0, 224, 245, 207, 184, 253, 227,\n",
              "        228, 229, 230, 226, 255, 193, 116, 247, 241,  47,   0,   0,   0,\n",
              "          0,   0],\n",
              "       [  0,   0,   0,   0,   0,   0,  19, 240, 247, 189, 146, 255, 227,\n",
              "        231, 231, 232, 227, 255, 178, 114, 250, 243, 103,   0,   0,   0,\n",
              "          0,   0],\n",
              "       [  0,   0,   0,   0,   0,   0,  61, 243, 246, 173, 132, 255, 224,\n",
              "        228, 231, 232, 224, 255, 156,  80, 255, 245, 134,   0,   0,   0,\n",
              "          0,   0],\n",
              "       [  0,   0,   0,   0,   0,   0, 107, 247, 245, 175, 190, 254, 229,\n",
              "        230, 225, 226, 228, 255, 204, 121, 255, 243, 158,   0,   0,   0,\n",
              "          0,   0],\n",
              "       [  0,   0,   0,   0,   0,   0, 141, 248, 241, 214, 229, 240, 236,\n",
              "        237, 235, 236, 236, 255, 218, 123, 255, 249, 181,   0,   0,   0,\n",
              "          0,   0],\n",
              "       [  0,   0,   0,   0,   0,   0, 167, 255, 243, 243, 236, 235, 235,\n",
              "        231, 234, 235, 231, 232, 236, 195, 255, 251, 185,   0,   0,   0,\n",
              "          0,   0],\n",
              "       [  0,   0,   0,   0,   0,   0, 186, 254, 247, 238, 228, 225, 228,\n",
              "        228, 229, 231, 228, 223, 231, 255, 252, 248, 200,   0,   0,   0,\n",
              "          0,   0],\n",
              "       [  0,   0,   0,   0,   0,   0, 206, 251, 252, 234, 229, 227, 229,\n",
              "        230, 230, 232, 231, 227, 227, 239, 251, 247, 210,   0,   0,   0,\n",
              "          0,   0],\n",
              "       [  0,   0,   0,   0,   0,   0, 218, 248, 254, 233, 232, 232, 233,\n",
              "        233, 233, 235, 233, 233, 235, 240, 252, 251, 211,   0,   0,   0,\n",
              "          0,   0],\n",
              "       [  0,   0,   0,   0,   0,   0, 224, 245, 252, 236, 238, 236, 238,\n",
              "        238, 238, 239, 238, 238, 237, 236, 250, 251, 222,   0,   0,   0,\n",
              "          0,   0],\n",
              "       [  0,   0,   0,   0,   0,   0, 225, 240, 244, 234, 229, 230, 232,\n",
              "        232, 230, 230, 231, 230, 232, 235, 245, 241, 226,   0,   0,   0,\n",
              "          0,   0],\n",
              "       [  0,   0,   0,   0,   0,   0, 238, 255, 248, 234, 236, 236, 237,\n",
              "        237, 236, 236, 236, 234, 235, 237, 252, 255, 233,   0,   0,   0,\n",
              "          0,   0],\n",
              "       [  0,   0,   0,   0,   0,   0,  56,  32, 158, 248, 228, 236, 237,\n",
              "        237, 237, 237, 237, 236, 231, 248, 140,  40,  31,   0,   0,   0,\n",
              "          0,   0],\n",
              "       [  0,   0,   0,   0,   0,   0,   0,   0, 138, 254, 229, 235, 234,\n",
              "        234, 235, 235, 236, 235, 232, 255,  98,   0,   0,   0,   0,   0,\n",
              "          0,   0],\n",
              "       [  0,   0,   0,   0,   0,   0,   4,   0, 178, 255, 235, 241, 239,\n",
              "        240, 241, 241, 241, 238, 233, 255, 139,   0,   5,   0,   0,   0,\n",
              "          0,   0],\n",
              "       [  0,   0,   0,   0,   0,   0,   0,   0, 180, 254, 233, 237, 237,\n",
              "        237, 238, 239, 239, 236, 233, 255, 142,   0,   2,   0,   0,   0,\n",
              "          0,   0],\n",
              "       [  0,   0,   0,   0,   0,   0,   0,   0, 178, 254, 229, 232, 232,\n",
              "        233, 236, 236, 234, 233, 230, 255, 149,   0,   4,   0,   0,   0,\n",
              "          0,   0],\n",
              "       [  0,   0,   0,   0,   0,   0,   1,   0, 179, 255, 234, 247, 237,\n",
              "        235, 237, 241, 240, 244, 237, 255, 176,   0,   2,   0,   0,   0,\n",
              "          0,   0],\n",
              "       [  0,   0,   0,   0,   0,   0,   0,   0, 155, 238, 200, 184, 215,\n",
              "        221, 211, 216, 215, 216, 191, 207, 153,   0,   0,   0,   0,   0,\n",
              "          0,   0]], dtype=uint8)"
            ]
          },
          "metadata": {},
          "execution_count": 31
        }
      ]
    },
    {
      "cell_type": "markdown",
      "source": [
        "#8.\tPlease plot the image of the index 500 in the testing dataset."
      ],
      "metadata": {
        "id": "0tXBn9Cqh1qY"
      }
    },
    {
      "cell_type": "code",
      "source": [
        "plt.imshow(test_images[500],cmap=plt.cm.binary)\n",
        "plt.show()"
      ],
      "metadata": {
        "id": "h-jWC1SzdLOc",
        "colab": {
          "base_uri": "https://localhost:8080/",
          "height": 265
        },
        "outputId": "207f351f-1de5-4c86-d2ea-aedcd1a6ca36"
      },
      "execution_count": 32,
      "outputs": [
        {
          "output_type": "display_data",
          "data": {
            "image/png": "[encoded data removed]",
            "text/plain": [
              "<Figure size 432x288 with 1 Axes>"
            ]
          },
          "metadata": {
            "needs_background": "light"
          }
        }
      ]
    },
    {
      "cell_type": "markdown",
      "source": [
        "# 9.\tWhat is the label for the index 500 in the test_label and looking up in the above list, what does it mean?"
      ],
      "metadata": {
        "id": "ChDVgAYqikq2"
      }
    },
    {
      "cell_type": "code",
      "source": [
        "test_labels[500]"
      ],
      "metadata": {
        "colab": {
          "base_uri": "https://localhost:8080/"
        },
        "id": "fvVK4SJbhMP8",
        "outputId": "2b528fa6-c851-49b1-e8f6-132d5260fedd"
      },
      "execution_count": 33,
      "outputs": [
        {
          "output_type": "execute_result",
          "data": {
            "text/plain": [
              "2"
            ]
          },
          "metadata": {},
          "execution_count": 33
        }
      ]
    },
    {
      "cell_type": "markdown",
      "source": [
        "# 10.\tPlease import models and layers from the keras library."
      ],
      "metadata": {
        "id": "1EnycH-Vi5gY"
      }
    },
    {
      "cell_type": "code",
      "source": [
        "# Everything was importet at the beggining of the doc"
      ],
      "metadata": {
        "id": "49pOyfrZi2NN"
      },
      "execution_count": 34,
      "outputs": []
    },
    {
      "cell_type": "markdown",
      "source": [
        "# 11.\tDefine a sequential model and call it myNetwork."
      ],
      "metadata": {
        "id": "N-EbLOsrjGaz"
      }
    },
    {
      "cell_type": "code",
      "source": [
        "myNetwork = tf.keras.models.Sequential()"
      ],
      "metadata": {
        "id": "8Q6INR7TjE57"
      },
      "execution_count": 69,
      "outputs": []
    },
    {
      "cell_type": "markdown",
      "source": [
        "# 12.\tReshape the images from 28x28 to one column with 784 neurons (flattening) (use 2 methods, one from the book and one from the 20-minute video)"
      ],
      "metadata": {
        "id": "FV5tfVFKlJhm"
      }
    },
    {
      "cell_type": "code",
      "source": [
        "#Book\n",
        "train_images = train_images.reshape((60000, 28*28))\n",
        "test_images = test_images.reshape((10000, 28*28))"
      ],
      "metadata": {
        "id": "kiVZiXIZy7z0"
      },
      "execution_count": 70,
      "outputs": []
    },
    {
      "cell_type": "code",
      "source": [
        "#Video\n",
        "train_images = layers.Flatten()(train_images)\n",
        "test_images = layers.Flatten()(test_images)"
      ],
      "metadata": {
        "id": "G0TyQb05GeyS"
      },
      "execution_count": 65,
      "outputs": []
    },
    {
      "cell_type": "code",
      "source": [
        "train_images.shape"
      ],
      "metadata": {
        "colab": {
          "base_uri": "https://localhost:8080/"
        },
        "id": "tVrHGpBnG0Fs",
        "outputId": "641b3316-f74f-45a9-b5a9-e5d82a6c8487"
      },
      "execution_count": 41,
      "outputs": [
        {
          "output_type": "execute_result",
          "data": {
            "text/plain": [
              "(60000, 784)"
            ]
          },
          "metadata": {},
          "execution_count": 41
        }
      ]
    },
    {
      "cell_type": "code",
      "source": [
        "test_images.shape"
      ],
      "metadata": {
        "colab": {
          "base_uri": "https://localhost:8080/"
        },
        "id": "Z_zb6iRnHOnu",
        "outputId": "2c095f3f-414c-461e-86bd-a8224ea47984"
      },
      "execution_count": 42,
      "outputs": [
        {
          "output_type": "execute_result",
          "data": {
            "text/plain": [
              "(10000, 784)"
            ]
          },
          "metadata": {},
          "execution_count": 42
        }
      ]
    },
    {
      "cell_type": "markdown",
      "source": [
        "# 13.\tAlso, please normalize the image by dividing the image by 255 (use 2 methods, one from the book and one from the 20-minute video)."
      ],
      "metadata": {
        "id": "co1s5jzpFVk5"
      }
    },
    {
      "cell_type": "code",
      "source": [
        "#Video\n",
        "train_images = utils.normalize(train_images, axis=1)\n",
        "test_images = utils.normalize(test_images, axis=1)"
      ],
      "metadata": {
        "id": "idYgzKfiHSZF"
      },
      "execution_count": 49,
      "outputs": []
    },
    {
      "cell_type": "code",
      "source": [
        "#Book\n",
        "train_images = train_images.astype('float')/255\n",
        "test_images = test_images.astype('float')/255"
      ],
      "metadata": {
        "id": "lPxo7kWQICY8"
      },
      "execution_count": 71,
      "outputs": []
    },
    {
      "cell_type": "markdown",
      "source": [
        "#14.\tAdd one hidden layer that has 512 neurons, using ‘relu’ activation function."
      ],
      "metadata": {
        "id": "9VykUlV9FaEq"
      }
    },
    {
      "cell_type": "code",
      "source": [
        "myNetwork.add(layers.Dense(512,activation=tf.nn.relu))"
      ],
      "metadata": {
        "id": "U1XJlM9s7gPL"
      },
      "execution_count": 72,
      "outputs": []
    },
    {
      "cell_type": "markdown",
      "source": [
        "#15.\tAdd another hidden layer that has 128 neurons, using ‘relu’ activation function"
      ],
      "metadata": {
        "id": "Cz2GBIQ_F7G9"
      }
    },
    {
      "cell_type": "code",
      "source": [
        "myNetwork.add(layers.Dense(128,activation=tf.nn.relu))"
      ],
      "metadata": {
        "id": "stwykC_V7hJE"
      },
      "execution_count": 73,
      "outputs": []
    },
    {
      "cell_type": "markdown",
      "source": [
        "#16.\tAdd the last layer as a 10-neuron dense layer that uses the ‘softmax’ as the activation function. Why we use softmax for the last layer? How does it work under the hood?"
      ],
      "metadata": {
        "id": "UAt_tHVdGHSm"
      }
    },
    {
      "cell_type": "code",
      "source": [
        "myNetwork.add(layers.Dense(10,activation=tf.nn.softmax))\n",
        "#output shows number of classifications, in this case 10, softmax for probability destribution"
      ],
      "metadata": {
        "id": "DPGBwiK5GG1L"
      },
      "execution_count": 74,
      "outputs": []
    },
    {
      "cell_type": "markdown",
      "source": [
        "#17.\tUse the following two settings for the compiler and run them separately and see what the differences are. \n",
        "•\tOptimizer   adam,  loss 'sparse_categorical_crossentropy', metrics[‘accuracy’]\n",
        "•\tOptimizer   rmsprop,  loss 'categorical_crossentropy', metrics[‘accuracy’]\n"
      ],
      "metadata": {
        "id": "7zurp0cYImly"
      }
    },
    {
      "cell_type": "code",
      "source": [
        "myNetwork.compile(optimizer='adam',\n",
        "                loss='sparse_categorical_crossentropy',\n",
        "                metrics=['accuracy'])"
      ],
      "metadata": {
        "id": "kYrTOKGQImJe"
      },
      "execution_count": 75,
      "outputs": []
    },
    {
      "cell_type": "code",
      "source": [
        "myNetwork.compile(optimizer='rmsprop',\n",
        "                loss='categorical_crossentropy',\n",
        "                metrics=['accuracy'])"
      ],
      "metadata": {
        "id": "WjAu8G7CazAC"
      },
      "execution_count": 56,
      "outputs": []
    },
    {
      "cell_type": "markdown",
      "source": [
        "#18.\tNow after the compilation, please try to find the pattern using the fit command. The epochs need to be 10 for this example"
      ],
      "metadata": {
        "id": "ny8mXVdOcdvn"
      }
    },
    {
      "cell_type": "code",
      "source": [
        "myNetwork.fit(train_images,train_labels, epochs=10)\n",
        "#adam"
      ],
      "metadata": {
        "colab": {
          "base_uri": "https://localhost:8080/"
        },
        "id": "FFiOkwoNccP9",
        "outputId": "2ebea57d-8ba7-4731-e702-7c83e44e6d47"
      },
      "execution_count": 76,
      "outputs": [
        {
          "output_type": "stream",
          "name": "stdout",
          "text": [
            "Epoch 1/10\n",
            "1875/1875 [==============================] - 7s 4ms/step - loss: 0.4691 - accuracy: 0.8307\n",
            "Epoch 2/10\n",
            "1875/1875 [==============================] - 7s 4ms/step - loss: 0.3571 - accuracy: 0.8684\n",
            "Epoch 3/10\n",
            "1875/1875 [==============================] - 7s 4ms/step - loss: 0.3203 - accuracy: 0.8804\n",
            "Epoch 4/10\n",
            "1875/1875 [==============================] - 8s 4ms/step - loss: 0.2955 - accuracy: 0.8893\n",
            "Epoch 5/10\n",
            "1875/1875 [==============================] - 8s 4ms/step - loss: 0.2812 - accuracy: 0.8951\n",
            "Epoch 6/10\n",
            "1875/1875 [==============================] - 7s 4ms/step - loss: 0.2660 - accuracy: 0.9003\n",
            "Epoch 7/10\n",
            "1875/1875 [==============================] - 7s 4ms/step - loss: 0.2564 - accuracy: 0.9025\n",
            "Epoch 8/10\n",
            "1875/1875 [==============================] - 7s 4ms/step - loss: 0.2432 - accuracy: 0.9075\n",
            "Epoch 9/10\n",
            "1875/1875 [==============================] - 7s 4ms/step - loss: 0.2326 - accuracy: 0.9107\n",
            "Epoch 10/10\n",
            "1875/1875 [==============================] - 7s 4ms/step - loss: 0.2249 - accuracy: 0.9150\n"
          ]
        },
        {
          "output_type": "execute_result",
          "data": {
            "text/plain": [
              "<keras.callbacks.History at 0x7f0b44290910>"
            ]
          },
          "metadata": {},
          "execution_count": 76
        }
      ]
    },
    {
      "cell_type": "markdown",
      "source": [
        "# 20.\tUse the evaluate to calculate the achieved accuracy and loss over the test images and labels. Do we have overfitting? "
      ],
      "metadata": {
        "id": "PGadMqrgJl0Y"
      }
    },
    {
      "cell_type": "code",
      "source": [
        "val_loss, val_acc = myNetwork.evaluate(test_images, test_labels)"
      ],
      "metadata": {
        "id": "kHhkWO7acw2Y",
        "colab": {
          "base_uri": "https://localhost:8080/"
        },
        "outputId": "c687d20b-143a-42f5-c6ab-0297760ab8b6"
      },
      "execution_count": 77,
      "outputs": [
        {
          "output_type": "stream",
          "name": "stdout",
          "text": [
            "313/313 [==============================] - 1s 3ms/step - loss: 0.3496 - accuracy: 0.8804\n"
          ]
        }
      ]
    },
    {
      "cell_type": "code",
      "source": [
        ""
      ],
      "metadata": {
        "id": "23tVmsRpJv9n"
      },
      "execution_count": null,
      "outputs": []
    }
  ]
}